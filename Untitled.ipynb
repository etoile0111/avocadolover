{
  "nbformat": 4,
  "nbformat_minor": 0,
  "metadata": {
    "colab": {
      "name": "Untitled",
      "provenance": [],
      "collapsed_sections": [],
      "authorship_tag": "ABX9TyNRQWjj5cyvEwIyPZrRnXK5",
      "include_colab_link": true
    },
    "kernelspec": {
      "name": "python3",
      "display_name": "Python 3"
    }
  },
  "cells": [
    {
      "cell_type": "markdown",
      "metadata": {
        "id": "view-in-github",
        "colab_type": "text"
      },
      "source": [
        "<a href=\"https://colab.research.google.com/github/etoile0111/avocadolover/blob/master/Untitled.ipynb\" target=\"_parent\"><img src=\"https://colab.research.google.com/assets/colab-badge.svg\" alt=\"Open In Colab\"/></a>"
      ]
    },
    {
      "cell_type": "markdown",
      "metadata": {
        "id": "6ppAts60FsBu",
        "colab_type": "text"
      },
      "source": [
        "# **1주차 과제 <언어, 음성, 이미지, 자율주행 인공지능 서비스>**\n",
        "\n"
      ]
    },
    {
      "cell_type": "markdown",
      "metadata": {
        "id": "2py478rUSzOR",
        "colab_type": "text"
      },
      "source": [
        "## 1. 언어 인공지능 - 마이크로소프트 신경망기반 번역\n",
        "- 안녕\n",
        "  - 하세요"
      ]
    },
    {
      "cell_type": "markdown",
      "metadata": {
        "id": "ZpAWO6sBTja9",
        "colab_type": "text"
      },
      "source": [
        "## 2. 음성 인공지능 - 구글 어시스턴트"
      ]
    },
    {
      "cell_type": "markdown",
      "metadata": {
        "id": "lSHDkJCMTj2W",
        "colab_type": "text"
      },
      "source": [
        "## 3. 이미지 인공지능 - 의료용 알고리즘 ‘CheXNeXt’"
      ]
    },
    {
      "cell_type": "markdown",
      "metadata": {
        "id": "aKFjZyzoGk0R",
        "colab_type": "text"
      },
      "source": [
        "## 4. 자율주행 인공지능 - 테슬라 'HydraNet'\n"
      ]
    }
  ]
}